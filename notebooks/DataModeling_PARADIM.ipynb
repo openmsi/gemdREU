{
 "cells": [
  {
   "cell_type": "code",
   "execution_count": 1,
   "metadata": {},
   "outputs": [],
   "source": [
    "import pathlib\n",
    "from gemd.entity import ProcessTemplate, ParameterTemplate, RealBounds, CategoricalBounds, ConditionTemplate\n",
    "from gemd.entity import ProcessSpec, PerformedSource, Condition, NominalReal, NominalCategorical, Parameter\n",
    "from gemd.entity.util import make_instance\n",
    "from gemd.json import GEMDJson"
   ]
  },
  {
   "cell_type": "markdown",
   "metadata": {},
   "source": [
    "## For XRD copper"
   ]
  },
  {
   "cell_type": "code",
   "execution_count": 98,
   "metadata": {},
   "outputs": [],
   "source": [
    "#One cell to define a dictionary of all the parameters\n",
    "\n",
    "creating_puck = {\n",
    "    'name': 'Julia',\n",
    "    'date': '7/15/2022',\n",
    "    'mass of sample': '0.7', #in units of g\n",
    "    'glass-slide thickness': '2.0', # in units of mm\n",
    "    'vaseline name': 'Vaspure',\n",
    "    'amount of vaseline': '6', # in units of l\n",
    "    'humidity': '0.08', # fractional, from 0 to 1\n",
    "}"
   ]
  },
  {
   "cell_type": "code",
   "execution_count": 99,
   "metadata": {},
   "outputs": [],
   "source": [
    "temp = ProcessTemplate(\n",
    "    'creating puck',\n",
    "    parameters=[\n",
    "        ParameterTemplate(\n",
    "            'mass of sample',\n",
    "            bounds=RealBounds(0.0,1.0,'g')\n",
    "        ),\n",
    "        ParameterTemplate(\n",
    "            'glass thickness',\n",
    "            bounds=RealBounds(0.0,10.0,'mm')\n",
    "        ),\n",
    "        ParameterTemplate(\n",
    "            'amount of vaseline',\n",
    "            bounds=RealBounds(0.0,15.0,'ml')\n",
    "        ),\n",
    "        ParameterTemplate(\n",
    "            'name of vaseline',\n",
    "            bounds=CategoricalBounds(['Vaspure','Vaseline','Giant','Nivea'])\n",
    "        ),\n",
    "    ],\n",
    "    conditions=[
    "        ConditionTemplate(\n",
    "            'humidity',\n",
    "            bounds=RealBounds(0.,1.0,'dimensionless')\n",
    "        )\n",
    "    ],\n",
    ")"
   ]
  },
  {
   "cell_type": "code",
   "execution_count": 101,
   "metadata": {},
   "outputs": [],
   "source": [
    "spec = ProcessSpec(\n",
    "    name='creating puck',\n",
    "    template=temp,\n",
    "    conditions=[\n",
    "        Condition(\n",
    "            'humidity',\n",
    "            value=NominalReal(float(creating_puck['humidity']),'kg/kg'),\n",
    "        )\n",
    "    ],\n",
    "    parameters=[\n",
    "        Parameter(\n",
    "            'mass of sample',\n",
    "            value=NominalReal(float(creating_puck['mass of sample']),'g'),\n",
    "        ),\n",
    "        Parameter(\n",
    "            'glass thickness',\n",
    "            value=NominalReal(float(creating_puck['glass-slide thickness']),'mm'),\n",
    "        ),\n",
    "        Parameter(\n",
    "            'amount of vaseline',\n",
    "            value=NominalReal(float(creating_puck['amount of vaseline']),'ml')\n",
    "        ),\n",
    "        Parameter(\n",
    "            'name of vaseline',\n",
    "            value=NominalCategorical(creating_puck['vaseline name'])\n",
    "        )\n",
    "    ],\n",
    ")"
   ]
  },
  {
   "cell_type": "code",
   "execution_count": 103,
   "metadata": {},
   "outputs": [],
   "source": [
    "run = make_instance(spec)\n",
    "run.source = PerformedSource(creating_puck['name'],creating_puck['date'])"
   ]
  },
  {
   "cell_type": "code",
   "execution_count": 110,
   "metadata": {},
   "outputs": [],
   "source": [
    "encoder = GEMDJson()\n",
    "\n",
    "fn = 'example_process_template.json'\n",
    "with open(pathlib.Path()/fn,'w') as fp :\n",
    "    fp.write(encoder.thin_dumps(temp,indent=2))\n",
    "\n",
    "fn = 'example_process_spec.json'\n",
    "with open(pathlib.Path()/fn,'w') as fp :\n",
    "    fp.write(encoder.thin_dumps(spec,indent=2))\n",
    "\n",
    "fn = 'example_process_run.json'\n",
    "with open(pathlib.Path()/fn,'w') as fp :\n",
    "    fp.write(encoder.thin_dumps(run,indent=2))\n",
    "\n",
    "entire_model_fn = 'entire_model.json'\n",
    "with open(pathlib.Path()/entire_model_fn,'w') as fp :\n",
    "    fp.write(encoder.dumps([run],indent=2))\n"
   ]
  },
  {
   "cell_type": "code",
   "execution_count": 115,
   "metadata": {},
   "outputs": [],
   "source": [
    "with open(pathlib.Path()/entire_model_fn,'r') as fp :\n",
    "    runs = encoder.load(fp)\n",
    "run = runs[0]"
   ]
  },
  {
   "cell_type": "code",
   "execution_count": 117,
   "metadata": {},
   "outputs": [
    {
     "data": {
      "text/plain": [
       "True"
      ]
     },
     "execution_count": 117,
     "metadata": {},
     "output_type": "execute_result"
    }
   ],
   "source": [
    "run.spec==spec"
   ]
  },
  {
   "cell_type": "markdown",
   "metadata": {},
   "source": [
    "## Electric Transport PPMS"
   ]
  },
  {
   "cell_type": "code",
   "execution_count": 6,
   "metadata": {},
   "outputs": [],
   "source": [
    "PPMS_ET_setup = {\n",
    "    'name': 'Julia',\n",
    "    'date': '17/07/2022',\n",
    "    #conditions\n",
    "    'voltage orientation': 'parallel', #either label 'parallel' to curent or if perpendicualr (hall resistivity) \n",
    "                            #then state either '+V on top' or '+V on bottom'\n",
    "    'humidity level in lab': '0.08',\n",
    "    #parameters \n",
    "    'current': '6',\n",
    "    'sample dimentions': '50:60', # number x: number y in mm\n",
    "    'compound stochiometry': 'NO2' } #in capital letteres \n",
    "\n",
    "#should I add an extra category asking about whether they are looking for resistivity or hall resistivity?"
   ]
  },
  {
   "cell_type": "code",
   "execution_count": 9,
   "metadata": {},
   "outputs": [],
   "source": [
    "#set up templates\n",
    "temp_ET = ProcessTemplate(\n",
    "    'Eletric Transport PPMS setup',\n",
    "    parameters=[\n",
    "        \n",
    "        ParameterTemplate('humidity level in lab', bounds=RealBounds(0.0,1.0,'kg/kg') ),\n",
    "        \n",
    "        ParameterTemplate('voltage orientation', bounds=CategoricalBounds(['+V on top', '+V on bottom','parallel',]) )\n",
    "    ],\n",
    ")\n",
    "#is it possible to set bounderies on capital letters and numbers?"
   ]
  },
  {
   "cell_type": "code",
   "execution_count": 17,
   "metadata": {},
   "outputs": [],
   "source": [
    "#set up spec\n",
    "spec_ET = ProcessSpec(\n",
    "    name='Eletric Transport PPMS setup',\n",
    "    template=temp_ET,\n",
    "    conditions=[\n",
    "        Condition(\n",
    "            'humidity level in lab',\n",
    "            value=NominalReal(float(PPMS_ET_setup['humidity level in lab']),'kg/kg'),   \n",
    "        ),\n",
    "        Condition(\n",
    "            'voltage orientation',\n",
    "            value=NominalCategorical(PPMS_ET_setup['voltage orientation'])\n",
    "        ),\n",
    "    \n",
    "    ],\n",
    "    \n",
    "    parameters=[\n",
    "        Parameter(\n",
    "            'current',\n",
    "            value=NominalReal(float(PPMS_ET_setup['current']),'amp'),\n",
    "        ),\n",
    "        Parameter(\n",
    "            'sample dimentions',\n",
    "            value=NominalCategorical(PPMS_ET_setup['sample dimentions'])\n",
    "        ),\n",
    "        Parameter(\n",
    "            'compound stochiometry',\n",
    "            value=NominalCategorical(PPMS_ET_setup['compound stochiometry'])\n",
    "        )\n",
    "    ],\n",
    ")"
   ]
  },
  {
   "cell_type": "code",
   "execution_count": 19,
   "metadata": {},
   "outputs": [],
   "source": [
    "run_ET = make_instance(spec_ET)\n",
    "run_ET.source = PerformedSource(PPMS_ET_setup['name'],PPMS_ET_setup['date'])"
   ]
  },
  {
   "cell_type": "code",
   "execution_count": 20,
   "metadata": {},
   "outputs": [],
   "source": [
    "encoder = GEMDJson()\n",
    "\n",
    "fn = 'ET_PPMS_process_template.json'\n",
    "with open(pathlib.Path()/fn,'w') as fp :\n",
    "    fp.write(encoder.thin_dumps(temp_ET,indent=2))\n",
    "\n",
    "fn = 'ET_PPMS_process_spec.json'\n",
    "with open(pathlib.Path()/fn,'w') as fp :\n",
    "    fp.write(encoder.thin_dumps(spec_ET,indent=2))\n",
    "\n",
    "fn = 'ET_PPMS_process_run.json'\n",
    "with open(pathlib.Path()/fn,'w') as fp :\n",
    "    fp.write(encoder.thin_dumps(run_ET,indent=2))\n",
    "\n",
    "entire_model_fn = 'ET_PPMS_entire_model.json'\n",
    "with open(pathlib.Path()/entire_model_fn,'w') as fp :\n",
    "    fp.write(encoder.dumps([run_ET],indent=2))\n"
   ]
  },
  {
   "cell_type": "markdown",
   "metadata": {},
   "source": [
    "## Thermal Transport PPMS"
   ]
  },
  {
   "cell_type": "code",
   "execution_count": 24,
   "metadata": {},
   "outputs": [],
   "source": [
    "PPMS_TT_setup = {\n",
    "    'name': 'Julia',\n",
    "    'date': '17/07/2022',\n",
    "    #conditions\n",
    "    'grease name': 'grease', #if no grease then put 'None'\n",
    "    'grease amount': '8.0',# if no greae then put 'None'\n",
    "    'humidity level in lab': '0.08',\n",
    "    #parameters \n",
    "    'mass of sample': '8', #in g\n",
    "    'molar mass': '60.8', #g/mol\n",
    "    'current': '6',# in Amp\n",
    "    'sample dimentions': '50:60', # number x: number y in mm\n",
    "    'compound stochiometry': 'NO2' } #in capital letteres \n",
    "\n",
    "#should I add an extra category asking about whether they are looking for heat capacity or themral conductivity?"
   ]
  },
  {
   "cell_type": "code",
   "execution_count": 25,
   "metadata": {},
   "outputs": [],
   "source": [
    "#set up templates\n",
    "temp_TT = ProcessTemplate(\n",
    "    'Thermal Transport PPMS setup',\n",
    "    parameters=[\n",
    "        \n",
    "        ParameterTemplate('humidity level in lab', bounds=RealBounds(0.0,1.0,'kg/kg') ),\n",
    "        \n",
    "        ParameterTemplate('grease name', bounds=CategoricalBounds(['grease',]) ),\n",
    "        \n",
    "        ParameterTemplate('grease amount', bounds=RealBounds(0.0,10,'g') ),\n",
    "    ],\n",
    ")"
   ]
  },
  {
   "cell_type": "code",
   "execution_count": 26,
   "metadata": {},
   "outputs": [],
   "source": [
    "#set up spec\n",
    "spec_TT = ProcessSpec(\n",
    "    name='Thermal Transport PPMS setup',\n",
    "    template=temp_TT,\n",
    "    conditions=[\n",
    "        Condition(\n",
    "            'humidity level in lab',\n",
    "            value=NominalReal(float(PPMS_TT_setup['humidity level in lab']),'kg/kg'),   \n",
    "        ),\n",
    "        Condition(\n",
    "            'grease name',\n",
    "            value=NominalCategorical(PPMS_TT_setup['grease name'])\n",
    "        ),\n",
    "        Condition(\n",
    "            'grease amount',\n",
    "            value=NominalReal(float(PPMS_TT_setup['grease amount']),'g')\n",
    "        ),\n",
    "    ],\n",
    "    \n",
    "    parameters=[\n",
    "         Parameter(\n",
    "            'mass of sample',\n",
    "            value=NominalReal(float(PPMS_TT_setup['mass of sample']),'g'),\n",
    "        ),\n",
    "         Parameter(\n",
    "            'molar mass',\n",
    "            value=NominalReal(float(PPMS_TT_setup['molar mass']),'g/mol'),\n",
    "        ),\n",
    "        Parameter(\n",
    "            'current',\n",
    "            value=NominalReal(float(PPMS_TT_setup['current']),'amp'),\n",
    "        ),\n",
    "        Parameter(\n",
    "            'sample dimentions',\n",
    "            value=NominalCategorical(PPMS_TT_setup['sample dimentions'])\n",
    "        ),\n",
    "        Parameter(\n",
    "            'compound stochiometry',\n",
    "            value=NominalCategorical(PPMS_TT_setup['compound stochiometry'])\n",
    "        )\n",
    "    ],\n",
    ")"
   ]
  },
  {
   "cell_type": "code",
   "execution_count": 36,
   "metadata": {},
   "outputs": [],
   "source": [
    "run_TT = make_instance(spec_TT)\n",
    "run_TT.source = PerformedSource(PPMS_TT_setup['name'],PPMS_TT_setup['date'])"
   ]
  },
  {
   "cell_type": "code",
   "execution_count": null,
   "metadata": {},
   "outputs": [],
   "source": [
    "encoder = GEMDJson()\n",
    "\n",
    "fn = 'TT_PPMS_process_template.json'\n",
    "with open(pathlib.Path()/fn,'w') as fp :\n",
    "    fp.write(encoder.thin_dumps(temp_TT,indent=2))\n",
    "\n",
    "fn = 'TT_PPMS_process_spec.json'\n",
    "with open(pathlib.Path()/fn,'w') as fp :\n",
    "    fp.write(encoder.thin_dumps(spec_TT,indent=2))\n",
    "\n",
    "fn = 'TT_PPMS_process_run.json'\n",
    "with open(pathlib.Path()/fn,'w') as fp :\n",
    "    fp.write(encoder.thin_dumps(run_TT,indent=2))\n",
    "\n",
    "entire_model_fn = 'TT_PPMS_entire_model.json'\n",
    "with open(pathlib.Path()/entire_model_fn,'w') as fp :\n",
    "    fp.write(encoder.dumps([run_TT],indent=2))\n"
   ]
  },
  {
   "cell_type": "markdown",
   "metadata": {},
   "source": [
    "## Magnetic PPMS and MPMS "
   ]
  },
  {
   "cell_type": "code",
   "execution_count": 28,
   "metadata": {},
   "outputs": [],
   "source": [
    "PPMS_MPMS_M_setup = {\n",
    "    'name': 'Julia',\n",
    "    'date': '17/07/2022',\n",
    "    #conditions\n",
    "    'plastic straw name': 'straw', \n",
    "    'plastic straw thickness': '0.2', #in mm\n",
    "    'cling film name': 'cling that film',\n",
    "    'cling film amount': '30:20',# number x: number y in mm\n",
    "    'humidity level in lab': '0.08',\n",
    "    'background magnitism': '25', #in micro Tesla\n",
    "    #parameters \n",
    "    'mass of sample': '8', #in g\n",
    "    'molar mass': '60.8', #g/mol\n",
    "    'current': '6', #in Amp\n",
    "    'measuring vibrating mass via': 'AC', #either 'AC or 'DC' or 'SQUID'\n",
    "    'sample dimentions': '50:60', # number x: number y in mm\n",
    "    'compound stochiometry': 'NO2' } #in capital letteres "
   ]
  },
  {
   "cell_type": "code",
   "execution_count": 29,
   "metadata": {},
   "outputs": [],
   "source": [
    "#set up templates\n",
    "temp_M = ProcessTemplate(\n",
    "    'Magnetic PPMS and MPMS setup',\n",
    "    parameters=[\n",
    "        \n",
    "        ParameterTemplate('humidity level in lab', bounds=RealBounds(0.0,1.0,'kg/kg') ),\n",
    "        \n",
    "        ParameterTemplate('plastic straw name', bounds=CategoricalBounds(['straw',]) ),\n",
    "        \n",
    "        ParameterTemplate('measuring vibrating mass via', bounds=CategoricalBounds(['AC', 'DC', 'SQUID']) ),\n",
    "    ],\n",
    ")"
   ]
  },
  {
   "cell_type": "code",
   "execution_count": 34,
   "metadata": {},
   "outputs": [],
   "source": [
    "#set up spec\n",
    "spec_M = ProcessSpec(\n",
    "    name='Magnetic PPMS and MPMS setup',\n",
    "    template=temp_M,\n",
    "    conditions=[\n",
    "        Condition(\n",
    "            'humidity level in lab',\n",
    "            value=NominalReal(float(PPMS_MPMS_M_setup['humidity level in lab']),'kg/kg'),   \n",
    "        ),\n",
    "        Condition(\n",
    "            'plastic straw name',\n",
    "            value=NominalCategorical(PPMS_MPMS_M_setup['plastic straw name'])\n",
    "        ),\n",
    "        Condition(\n",
    "            'plastic straw thickness',\n",
    "            value=NominalReal(float(PPMS_MPMS_M_setup['plastic straw thickness']),'g')\n",
    "        ),\n",
    "        Condition(\n",
    "            'cling film name',\n",
    "            value=NominalCategorical(PPMS_MPMS_M_setup['cling film name'])\n",
    "        ),\n",
    "        Condition(\n",
    "            'cling film amount',\n",
    "            value=NominalCategorical(PPMS_MPMS_M_setup['cling film amount'])\n",
    "        ),\n",
    "        Condition(\n",
    "            'background magnitism',\n",
    "            value=NominalReal(float(PPMS_MPMS_M_setup['background magnitism']), 'T') #does not take micro???\n",
    "        ),\n",
    "    ],\n",
    "    \n",
    "    parameters=[\n",
    "         Parameter(\n",
    "            'mass of sample',\n",
    "            value=NominalReal(float(PPMS_MPMS_M_setup['mass of sample']),'g'),\n",
    "        ),\n",
    "         Parameter(\n",
    "            'molar mass',\n",
    "            value=NominalReal(float(PPMS_MPMS_M_setup['molar mass']),'g/mol'),\n",
    "        ),\n",
    "        Parameter(\n",
    "            'current',\n",
    "            value=NominalReal(float(PPMS_MPMS_M_setup['current']),'amp'),\n",
    "        ),\n",
    "        Parameter(\n",
    "            'measuring vibrating mass via',\n",
    "            value=NominalCategorical(PPMS_MPMS_M_setup['measuring vibrating mass via'])\n",
    "        ),\n",
    "        Parameter(\n",
    "            'sample dimentions',\n",
    "            value=NominalCategorical(PPMS_MPMS_M_setup['sample dimentions'])\n",
    "        ),\n",
    "        Parameter(\n",
    "            'compound stochiometry',\n",
    "            value=NominalCategorical(PPMS_MPMS_M_setup['compound stochiometry'])\n",
    "        )\n",
    "    ],\n",
    ")"
   ]
  },
  {
   "cell_type": "code",
   "execution_count": 35,
   "metadata": {},
   "outputs": [],
   "source": [
    "run_M = make_instance(spec_M)\n",
    "run_M.source = PerformedSource(PPMS_MPMS_M_setup['name'],PPMS_MPMS_M_setup['date'])"
   ]
  },
  {
   "cell_type": "code",
   "execution_count": null,
   "metadata": {},
   "outputs": [],
   "source": [
    "encoder = GEMDJson()\n",
    "\n",
    "fn = 'PPMS_MPMS_M_process_template.json'\n",
    "with open(pathlib.Path()/fn,'w') as fp :\n",
    "    fp.write(encoder.thin_dumps(temp_M,indent=2))\n",
    "\n",
    "fn = 'PPMS_MPMS_M_process_spec.json'\n",
    "with open(pathlib.Path()/fn,'w') as fp :\n",
    "    fp.write(encoder.thin_dumps(spec_M,indent=2))\n",
    "\n",
    "fn = 'PPMS_MPMS_M_process_run.json'\n",
    "with open(pathlib.Path()/fn,'w') as fp :\n",
    "    fp.write(encoder.thin_dumps(run_M,indent=2))\n",
    "\n",
    "entire_model_fn = 'PPMS_MPMS_M_entire_model.json'\n",
    "with open(pathlib.Path()/entire_model_fn,'w') as fp :\n",
    "    fp.write(encoder.dumps([run_M],indent=2))\n"
   ]
  },
  {
   "cell_type": "markdown",
   "metadata": {},
   "source": [
    "## Laser Floating Zone"
   ]
  },
  {
   "cell_type": "code",
   "execution_count": 2,
   "metadata": {},
   "outputs": [],
   "source": [
    "LFZ_setup = {\n",
    "    'name': 'Julia',\n",
    "    'date': '17/07/2022',\n",
    "    #conditions\n",
    "    'gas type': 'O2', #in campitals, example O2 for oxygen\n",
    "    #parameters \n",
    "    'voltage': '6', #in volts\n",
    "    'flow rate': '6', #in liters per minute\n",
    "    'duration': '6', #in minutes\n",
    "    'sample dimentions': '50:60', # number (diameter)x: number (length)y in mm\n",
    "    'mass of sample': '6', #in grams\n",
    "    'compound stochiometry': 'NO2' } #in capital letteres "
   ]
  },
  {
   "cell_type": "code",
   "execution_count": 3,
   "metadata": {},
   "outputs": [],
   "source": [
    "#set up templates\n",
    "temp_LFZ = ProcessTemplate(\n",
    "    'Laser Floating Zone setup',\n",
    "    parameters=[\n",
    "        ParameterTemplate(\n",
    "            'mass of sample',\n",
    "            bounds=RealBounds(0.0,10.0,'g')\n",
    "        )\n",
    "    ],\n",
    ")"
   ]
  },
  {
   "cell_type": "code",
   "execution_count": 4,
   "metadata": {},
   "outputs": [],
   "source": [
    "#set up spec\n",
    "spec_LFZ = ProcessSpec(\n",
    "    name='Laser Floating Zone setup',\n",
    "    template=temp_LFZ,\n",
    "    conditions=[\n",
    "        Condition(\n",
    "            'gas type',\n",
    "            value=NominalCategorical(LFZ_setup['gas type'])\n",
    "        ),\n",
    "    ],\n",
    "    \n",
    "    parameters=[\n",
    "         Parameter(\n",
    "            'voltage',\n",
    "            value=NominalReal(float(LFZ_setup['voltage']),'volts'),\n",
    "        ),\n",
    "        Parameter(\n",
    "            'flow rate',\n",
    "            value=NominalReal(float(LFZ_setup['flow rate']),'l/min'),\n",
    "        ),\n",
    "        Parameter(\n",
    "            'duration',\n",
    "            value=NominalReal(float(LFZ_setup['duration']),'min'),\n",
    "        ),\n",
    "         \n",
    "        Parameter(\n",
    "            'sample dimentions',\n",
    "            value=NominalCategorical(LFZ_setup['sample dimentions'])\n",
    "        ),\n",
    "        Parameter(\n",
    "            'mass of sample',\n",
    "            value=NominalReal(float(LFZ_setup['mass of sample']),'g'),\n",
    "         ),\n",
    "        Parameter(\n",
    "            'compound stochiometry',\n",
    "            value=NominalCategorical(LFZ_setup['compound stochiometry'])\n",
    "        )\n",
    "    ],\n",
    ")"
   ]
  },
  {
   "cell_type": "code",
   "execution_count": 7,
   "metadata": {},
   "outputs": [],
   "source": [
    "run_LFZ = make_instance(spec_LFZ)\n",
    "run_LFZ.source = PerformedSource(LFZ_setup['name'],LFZ_setup['date'])"
   ]
  },
  {
   "cell_type": "code",
   "execution_count": 8,
   "metadata": {},
   "outputs": [],
   "source": [
    "encoder = GEMDJson()\n",
    "\n",
    "fn = 'LFZ_process_template.json'\n",
    "with open(pathlib.Path()/fn,'w') as fp :\n",
    "    fp.write(encoder.thin_dumps(temp_LFZ,indent=2))\n",
    "\n",
    "fn = 'LFZ_process_spec.json'\n",
    "with open(pathlib.Path()/fn,'w') as fp :\n",
    "    fp.write(encoder.thin_dumps(spec_LFZ,indent=2))\n",
    "\n",
    "fn = 'LFZ_M_process_run.json'\n",
    "with open(pathlib.Path()/fn,'w') as fp :\n",
    "    fp.write(encoder.thin_dumps(run_LFZ,indent=2))\n",
    "\n",
    "entire_model_fn = 'LFZ_entire_model.json'\n",
    "with open(pathlib.Path()/entire_model_fn,'w') as fp :\n",
    "    fp.write(encoder.dumps([run_LFZ],indent=2))"
   ]
  }
 ],
 "metadata": {
  "kernelspec": {
   "display_name": "Python 3",
   "language": "python",
   "name": "python3"
  },
  "language_info": {
   "codemirror_mode": {
    "name": "ipython",
    "version": 3
   },
   "file_extension": ".py",
   "mimetype": "text/x-python",
   "name": "python",
   "nbconvert_exporter": "python",
   "pygments_lexer": "ipython3",
   "version": "3.8.5"
  },
  "vscode": {
   "interpreter": {
    "hash": "2a041ad1270c77aaba3f77c347730a743c4c6c04bd78b280d1b1e1055a56bd74"
   }
  }
 },
 "nbformat": 4,
 "nbformat_minor": 4
}
